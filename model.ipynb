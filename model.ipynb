{
 "cells": [
  {
   "cell_type": "markdown",
   "id": "3d7403fa",
   "metadata": {},
   "source": [
    "# **Model Building**"
   ]
  },
  {
   "cell_type": "code",
   "execution_count": 20,
   "id": "5e9e9842",
   "metadata": {},
   "outputs": [],
   "source": [
    "import pandas as pd\n",
    "import numpy as np\n",
    "import seaborn as sns\n",
    "import matplotlib.pyplot as plt\n",
    "import plotly.express as px\n",
    "\n",
    "\n"
   ]
  },
  {
   "cell_type": "code",
   "execution_count": 21,
   "id": "f1de55a8",
   "metadata": {},
   "outputs": [
    {
     "name": "stdout",
     "output_type": "stream",
     "text": [
      "Cleaned dataset loaded successfully\n",
      "      views     likes  comments  watch_time_minutes  video_length_minutes  \\\n",
      "0 -0.638847  0.239775  0.360982           -0.872393             -1.627204   \n",
      "1  0.171818 -0.903658  0.566579           -1.764055              0.954887   \n",
      "2  0.972474  1.736705 -0.690726            1.563477              1.259475   \n",
      "3  0.341957  0.180530 -0.255809           -0.490266             -0.525371   \n",
      "4 -1.109233  1.497749  1.602472           -1.728039             -1.160443   \n",
      "\n",
      "   subscribers  category  device  country  ad_revenue_usd  upload_month  \\\n",
      "0    -0.950903         1       2        3      203.178237             9   \n",
      "1     0.810515         2       3        1      140.880508             9   \n",
      "2    -0.907735         0       2        1      360.134008            11   \n",
      "3    -0.235154         1       1        4      224.638261             1   \n",
      "4    -1.596116         0       1        1      165.514388             4   \n",
      "\n",
      "   upload_dayofweek  upload_day  engagement_rate  watch_ratio  \n",
      "0                 1          24         0.339207     1.557181  \n",
      "1                 6          22        -0.743237    -0.826693  \n",
      "2                 3          21         1.478520    -0.398590  \n",
      "3                 1          28         0.103813    -0.267477  \n",
      "4                 0          28         1.892665    -0.350857  \n"
     ]
    }
   ],
   "source": [
    "#Load the preprocessed dataset\n",
    "df = pd.read_csv(r\"F:\\youtube_ad\\clean_youtube_data.csv\")\n",
    "print(\"Cleaned dataset loaded successfully\")\n",
    "print(df.head())"
   ]
  },
  {
   "cell_type": "code",
   "execution_count": 22,
   "id": "3aa6bccc",
   "metadata": {},
   "outputs": [
    {
     "data": {
      "text/html": [
       "<div>\n",
       "<style scoped>\n",
       "    .dataframe tbody tr th:only-of-type {\n",
       "        vertical-align: middle;\n",
       "    }\n",
       "\n",
       "    .dataframe tbody tr th {\n",
       "        vertical-align: top;\n",
       "    }\n",
       "\n",
       "    .dataframe thead th {\n",
       "        text-align: right;\n",
       "    }\n",
       "</style>\n",
       "<table border=\"1\" class=\"dataframe\">\n",
       "  <thead>\n",
       "    <tr style=\"text-align: right;\">\n",
       "      <th></th>\n",
       "      <th>views</th>\n",
       "      <th>likes</th>\n",
       "      <th>comments</th>\n",
       "      <th>watch_time_minutes</th>\n",
       "      <th>video_length_minutes</th>\n",
       "      <th>subscribers</th>\n",
       "      <th>category</th>\n",
       "      <th>device</th>\n",
       "      <th>country</th>\n",
       "      <th>ad_revenue_usd</th>\n",
       "      <th>upload_month</th>\n",
       "      <th>upload_dayofweek</th>\n",
       "      <th>upload_day</th>\n",
       "      <th>engagement_rate</th>\n",
       "      <th>watch_ratio</th>\n",
       "    </tr>\n",
       "  </thead>\n",
       "  <tbody>\n",
       "    <tr>\n",
       "      <th>0</th>\n",
       "      <td>-0.638847</td>\n",
       "      <td>0.239775</td>\n",
       "      <td>3.609822e-01</td>\n",
       "      <td>-0.872393</td>\n",
       "      <td>-1.627204</td>\n",
       "      <td>-0.950903</td>\n",
       "      <td>1</td>\n",
       "      <td>2</td>\n",
       "      <td>3</td>\n",
       "      <td>203.178237</td>\n",
       "      <td>9</td>\n",
       "      <td>1</td>\n",
       "      <td>24</td>\n",
       "      <td>0.339207</td>\n",
       "      <td>1.557181</td>\n",
       "    </tr>\n",
       "    <tr>\n",
       "      <th>1</th>\n",
       "      <td>0.171818</td>\n",
       "      <td>-0.903658</td>\n",
       "      <td>5.665792e-01</td>\n",
       "      <td>-1.764055</td>\n",
       "      <td>0.954887</td>\n",
       "      <td>0.810515</td>\n",
       "      <td>2</td>\n",
       "      <td>3</td>\n",
       "      <td>1</td>\n",
       "      <td>140.880508</td>\n",
       "      <td>9</td>\n",
       "      <td>6</td>\n",
       "      <td>22</td>\n",
       "      <td>-0.743237</td>\n",
       "      <td>-0.826693</td>\n",
       "    </tr>\n",
       "    <tr>\n",
       "      <th>2</th>\n",
       "      <td>0.972474</td>\n",
       "      <td>1.736705</td>\n",
       "      <td>-6.907257e-01</td>\n",
       "      <td>1.563477</td>\n",
       "      <td>1.259475</td>\n",
       "      <td>-0.907735</td>\n",
       "      <td>0</td>\n",
       "      <td>2</td>\n",
       "      <td>1</td>\n",
       "      <td>360.134008</td>\n",
       "      <td>11</td>\n",
       "      <td>3</td>\n",
       "      <td>21</td>\n",
       "      <td>1.478520</td>\n",
       "      <td>-0.398590</td>\n",
       "    </tr>\n",
       "    <tr>\n",
       "      <th>3</th>\n",
       "      <td>0.341957</td>\n",
       "      <td>0.180530</td>\n",
       "      <td>-2.558089e-01</td>\n",
       "      <td>-0.490266</td>\n",
       "      <td>-0.525371</td>\n",
       "      <td>-0.235154</td>\n",
       "      <td>1</td>\n",
       "      <td>1</td>\n",
       "      <td>4</td>\n",
       "      <td>224.638261</td>\n",
       "      <td>1</td>\n",
       "      <td>1</td>\n",
       "      <td>28</td>\n",
       "      <td>0.103813</td>\n",
       "      <td>-0.267477</td>\n",
       "    </tr>\n",
       "    <tr>\n",
       "      <th>4</th>\n",
       "      <td>-1.109233</td>\n",
       "      <td>1.497749</td>\n",
       "      <td>1.602472e+00</td>\n",
       "      <td>-1.728039</td>\n",
       "      <td>-1.160443</td>\n",
       "      <td>-1.596116</td>\n",
       "      <td>0</td>\n",
       "      <td>1</td>\n",
       "      <td>1</td>\n",
       "      <td>165.514388</td>\n",
       "      <td>4</td>\n",
       "      <td>0</td>\n",
       "      <td>28</td>\n",
       "      <td>1.892665</td>\n",
       "      <td>-0.350857</td>\n",
       "    </tr>\n",
       "    <tr>\n",
       "      <th>...</th>\n",
       "      <td>...</td>\n",
       "      <td>...</td>\n",
       "      <td>...</td>\n",
       "      <td>...</td>\n",
       "      <td>...</td>\n",
       "      <td>...</td>\n",
       "      <td>...</td>\n",
       "      <td>...</td>\n",
       "      <td>...</td>\n",
       "      <td>...</td>\n",
       "      <td>...</td>\n",
       "      <td>...</td>\n",
       "      <td>...</td>\n",
       "      <td>...</td>\n",
       "      <td>...</td>\n",
       "    </tr>\n",
       "    <tr>\n",
       "      <th>119995</th>\n",
       "      <td>-1.469529</td>\n",
       "      <td>1.132404</td>\n",
       "      <td>-1.007029e+00</td>\n",
       "      <td>0.358242</td>\n",
       "      <td>1.171603</td>\n",
       "      <td>-1.010786</td>\n",
       "      <td>0</td>\n",
       "      <td>3</td>\n",
       "      <td>5</td>\n",
       "      <td>280.986396</td>\n",
       "      <td>12</td>\n",
       "      <td>5</td>\n",
       "      <td>14</td>\n",
       "      <td>0.907127</td>\n",
       "      <td>-0.547302</td>\n",
       "    </tr>\n",
       "    <tr>\n",
       "      <th>119996</th>\n",
       "      <td>1.282729</td>\n",
       "      <td>1.203498</td>\n",
       "      <td>-1.671265e+00</td>\n",
       "      <td>1.581729</td>\n",
       "      <td>0.026126</td>\n",
       "      <td>1.305878</td>\n",
       "      <td>4</td>\n",
       "      <td>0</td>\n",
       "      <td>4</td>\n",
       "      <td>354.612981</td>\n",
       "      <td>7</td>\n",
       "      <td>5</td>\n",
       "      <td>13</td>\n",
       "      <td>0.720110</td>\n",
       "      <td>-0.022708</td>\n",
       "    </tr>\n",
       "    <tr>\n",
       "      <th>119997</th>\n",
       "      <td>2.673870</td>\n",
       "      <td>-0.789117</td>\n",
       "      <td>4.494937e-16</td>\n",
       "      <td>-0.789250</td>\n",
       "      <td>0.965313</td>\n",
       "      <td>0.258229</td>\n",
       "      <td>5</td>\n",
       "      <td>3</td>\n",
       "      <td>1</td>\n",
       "      <td>203.643106</td>\n",
       "      <td>6</td>\n",
       "      <td>0</td>\n",
       "      <td>10</td>\n",
       "      <td>-0.814770</td>\n",
       "      <td>-0.684019</td>\n",
       "    </tr>\n",
       "    <tr>\n",
       "      <th>119998</th>\n",
       "      <td>2.403648</td>\n",
       "      <td>1.019838</td>\n",
       "      <td>-1.331239e+00</td>\n",
       "      <td>1.534622</td>\n",
       "      <td>-1.022254</td>\n",
       "      <td>0.287297</td>\n",
       "      <td>4</td>\n",
       "      <td>1</td>\n",
       "      <td>4</td>\n",
       "      <td>351.525811</td>\n",
       "      <td>12</td>\n",
       "      <td>6</td>\n",
       "      <td>22</td>\n",
       "      <td>0.589810</td>\n",
       "      <td>1.028749</td>\n",
       "    </tr>\n",
       "    <tr>\n",
       "      <th>119999</th>\n",
       "      <td>-0.688888</td>\n",
       "      <td>-0.650878</td>\n",
       "      <td>4.494937e-16</td>\n",
       "      <td>0.073157</td>\n",
       "      <td>1.396158</td>\n",
       "      <td>0.053041</td>\n",
       "      <td>5</td>\n",
       "      <td>2</td>\n",
       "      <td>1</td>\n",
       "      <td>253.842824</td>\n",
       "      <td>6</td>\n",
       "      <td>1</td>\n",
       "      <td>25</td>\n",
       "      <td>-0.618078</td>\n",
       "      <td>-0.614226</td>\n",
       "    </tr>\n",
       "  </tbody>\n",
       "</table>\n",
       "<p>120000 rows × 15 columns</p>\n",
       "</div>"
      ],
      "text/plain": [
       "           views     likes      comments  watch_time_minutes  \\\n",
       "0      -0.638847  0.239775  3.609822e-01           -0.872393   \n",
       "1       0.171818 -0.903658  5.665792e-01           -1.764055   \n",
       "2       0.972474  1.736705 -6.907257e-01            1.563477   \n",
       "3       0.341957  0.180530 -2.558089e-01           -0.490266   \n",
       "4      -1.109233  1.497749  1.602472e+00           -1.728039   \n",
       "...          ...       ...           ...                 ...   \n",
       "119995 -1.469529  1.132404 -1.007029e+00            0.358242   \n",
       "119996  1.282729  1.203498 -1.671265e+00            1.581729   \n",
       "119997  2.673870 -0.789117  4.494937e-16           -0.789250   \n",
       "119998  2.403648  1.019838 -1.331239e+00            1.534622   \n",
       "119999 -0.688888 -0.650878  4.494937e-16            0.073157   \n",
       "\n",
       "        video_length_minutes  subscribers  category  device  country  \\\n",
       "0                  -1.627204    -0.950903         1       2        3   \n",
       "1                   0.954887     0.810515         2       3        1   \n",
       "2                   1.259475    -0.907735         0       2        1   \n",
       "3                  -0.525371    -0.235154         1       1        4   \n",
       "4                  -1.160443    -1.596116         0       1        1   \n",
       "...                      ...          ...       ...     ...      ...   \n",
       "119995              1.171603    -1.010786         0       3        5   \n",
       "119996              0.026126     1.305878         4       0        4   \n",
       "119997              0.965313     0.258229         5       3        1   \n",
       "119998             -1.022254     0.287297         4       1        4   \n",
       "119999              1.396158     0.053041         5       2        1   \n",
       "\n",
       "        ad_revenue_usd  upload_month  upload_dayofweek  upload_day  \\\n",
       "0           203.178237             9                 1          24   \n",
       "1           140.880508             9                 6          22   \n",
       "2           360.134008            11                 3          21   \n",
       "3           224.638261             1                 1          28   \n",
       "4           165.514388             4                 0          28   \n",
       "...                ...           ...               ...         ...   \n",
       "119995      280.986396            12                 5          14   \n",
       "119996      354.612981             7                 5          13   \n",
       "119997      203.643106             6                 0          10   \n",
       "119998      351.525811            12                 6          22   \n",
       "119999      253.842824             6                 1          25   \n",
       "\n",
       "        engagement_rate  watch_ratio  \n",
       "0              0.339207     1.557181  \n",
       "1             -0.743237    -0.826693  \n",
       "2              1.478520    -0.398590  \n",
       "3              0.103813    -0.267477  \n",
       "4              1.892665    -0.350857  \n",
       "...                 ...          ...  \n",
       "119995         0.907127    -0.547302  \n",
       "119996         0.720110    -0.022708  \n",
       "119997        -0.814770    -0.684019  \n",
       "119998         0.589810     1.028749  \n",
       "119999        -0.618078    -0.614226  \n",
       "\n",
       "[120000 rows x 15 columns]"
      ]
     },
     "execution_count": 22,
     "metadata": {},
     "output_type": "execute_result"
    }
   ],
   "source": [
    "df"
   ]
  },
  {
   "cell_type": "code",
   "execution_count": 23,
   "id": "1ae7a050",
   "metadata": {},
   "outputs": [],
   "source": [
    "from sklearn.model_selection import train_test_split"
   ]
  },
  {
   "cell_type": "markdown",
   "id": "29e6ba3e",
   "metadata": {},
   "source": [
    "**1.Split Data into Features and Target**"
   ]
  },
  {
   "cell_type": "code",
   "execution_count": 24,
   "id": "69caf6c1",
   "metadata": {},
   "outputs": [],
   "source": [
    "# X = features, y = target\n",
    "X = df.drop(columns=['ad_revenue_usd'])  # all columns except target\n",
    "y = df['ad_revenue_usd']                # target column"
   ]
  },
  {
   "cell_type": "markdown",
   "id": "668787fb",
   "metadata": {},
   "source": [
    "X contains all the input features (what the model will use to predict).\n",
    "\n",
    "y contains the target variable (ad revenue we want to predict)."
   ]
  },
  {
   "cell_type": "code",
   "execution_count": 25,
   "id": "c06ac473",
   "metadata": {},
   "outputs": [
    {
     "data": {
      "text/plain": [
       "0    203.178237\n",
       "1    140.880508\n",
       "2    360.134008\n",
       "3    224.638261\n",
       "4    165.514388\n",
       "Name: ad_revenue_usd, dtype: float64"
      ]
     },
     "execution_count": 25,
     "metadata": {},
     "output_type": "execute_result"
    }
   ],
   "source": [
    "# Quick check\n",
    "X.head()\n",
    "y.head()"
   ]
  },
  {
   "cell_type": "markdown",
   "id": "7b516131",
   "metadata": {},
   "source": [
    "**2.Split Data into Training and Testing Sets**"
   ]
  },
  {
   "cell_type": "code",
   "execution_count": 27,
   "id": "a8429a63",
   "metadata": {},
   "outputs": [
    {
     "data": {
      "text/plain": [
       "((96000, 14), (24000, 14), (96000,), (24000,))"
      ]
     },
     "execution_count": 27,
     "metadata": {},
     "output_type": "execute_result"
    }
   ],
   "source": [
    "X_train, X_test, y_train, y_test = train_test_split(X, y, test_size=0.2, random_state=42)\n",
    "X_train.shape, X_test.shape, y_train.shape, y_test.shape\n",
    "\n"
   ]
  },
  {
   "cell_type": "markdown",
   "id": "2060b4de",
   "metadata": {},
   "source": [
    "Training data → used to train the model.        |      Testing data → used to check model performance on unseen data.\n",
    "\n",
    "test_size=0.2 → 20% of data for testing.        |      random_state=42 → ensures reproducibility."
   ]
  },
  {
   "cell_type": "markdown",
   "id": "777a1548",
   "metadata": {},
   "source": [
    "### **MODEL BUILDING AND EVALUATION**"
   ]
  },
  {
   "cell_type": "code",
   "execution_count": 28,
   "id": "87f61b03",
   "metadata": {},
   "outputs": [],
   "source": [
    "from sklearn.linear_model import LinearRegression, Ridge, Lasso\n",
    "from sklearn.ensemble import RandomForestRegressor, GradientBoostingRegressor\n",
    "from sklearn.metrics import mean_squared_error, mean_absolute_error, r2_score\n",
    "import plotly.express as px"
   ]
  },
  {
   "cell_type": "code",
   "execution_count": 29,
   "id": "63ef6c2a",
   "metadata": {},
   "outputs": [],
   "source": [
    "# Define models\n",
    "models = {\n",
    "    \"Linear Regression\": LinearRegression(),\n",
    "    \"Ridge\": Ridge(alpha=1.0),\n",
    "    \"Lasso\": Lasso(alpha=0.01),\n",
    "    \"Random Forest\": RandomForestRegressor(n_estimators=200, random_state=42),\n",
    "    \"Gradient Boosting\": GradientBoostingRegressor(n_estimators=200, random_state=42)\n",
    "}"
   ]
  },
  {
   "cell_type": "code",
   "execution_count": 30,
   "id": "099dc34b",
   "metadata": {},
   "outputs": [],
   "source": [
    "# Store results\n",
    "results = []"
   ]
  },
  {
   "cell_type": "code",
   "execution_count": 31,
   "id": "74e33192",
   "metadata": {},
   "outputs": [],
   "source": [
    "# Train and evaluate each model\n",
    "for name, model in models.items():  # Initialize the model\n",
    "\n",
    "    model.fit(X_train, y_train)     # Train the model\n",
    "    y_pred = model.predict(X_test)   # Predict on test set\n",
    "\n",
    "    r2 = r2_score(y_test, y_pred)     # Evaluate performance\n",
    "    rmse = np.sqrt(mean_squared_error(y_test, y_pred))\n",
    "    mae = mean_absolute_error(y_test, y_pred)\n",
    "\n",
    "    results.append([name, r2, rmse, mae])"
   ]
  },
  {
   "cell_type": "code",
   "execution_count": 32,
   "id": "24e37c1e",
   "metadata": {},
   "outputs": [],
   "source": [
    "# Create DataFrame\n",
    "results_df = pd.DataFrame(results, columns=[\"Model\", \"R2\", \"RMSE\", \"MAE\"])"
   ]
  },
  {
   "cell_type": "code",
   "execution_count": 33,
   "id": "3eae9a7f",
   "metadata": {},
   "outputs": [
    {
     "name": "stdout",
     "output_type": "stream",
     "text": [
      "               Model        R2       RMSE       MAE\n",
      "2              Lasso  0.952591  13.477590  3.083480\n",
      "1              Ridge  0.952587  13.478162  3.092431\n",
      "0  Linear Regression  0.952585  13.478450  3.094299\n",
      "4  Gradient Boosting  0.952190  13.534544  3.648658\n",
      "3      Random Forest  0.950849  13.723056  3.520470\n"
     ]
    }
   ],
   "source": [
    "# Sort by best R²\n",
    "results_df = results_df.sort_values(by=\"R2\", ascending=False)\n",
    "print(results_df)"
   ]
  },
  {
   "cell_type": "markdown",
   "id": "463bfa73",
   "metadata": {},
   "source": [
    "#### **1️⃣ Linear Regression**"
   ]
  },
  {
   "cell_type": "markdown",
   "id": "7b17eb9b",
   "metadata": {},
   "source": [
    "Linear Regression assumes a linear relationship between features and ad revenue.\n",
    "\n",
    "R² shows how much variance in revenue is explained.\n",
    "\n",
    "RMSE & MAE give average prediction error."
   ]
  },
  {
   "cell_type": "markdown",
   "id": "690f6da1",
   "metadata": {},
   "source": [
    "#### **2️⃣ Ridge Regression**"
   ]
  },
  {
   "cell_type": "markdown",
   "id": "138025c0",
   "metadata": {},
   "source": [
    "Ridge adds L2 regularization to reduce overfitting.\n",
    "\n",
    "Useful if some features are highly correlated."
   ]
  },
  {
   "cell_type": "markdown",
   "id": "5b5d14e1",
   "metadata": {},
   "source": [
    "#### **3️⃣ Lasso Regression**"
   ]
  },
  {
   "cell_type": "markdown",
   "id": "115e7c09",
   "metadata": {},
   "source": [
    "Lasso adds L1 regularization, which can shrink some coefficients to zero (feature selection)."
   ]
  },
  {
   "cell_type": "markdown",
   "id": "ab189536",
   "metadata": {},
   "source": [
    "#### **4️⃣ Random Forest Regressor**"
   ]
  },
  {
   "cell_type": "markdown",
   "id": "8bfc09cc",
   "metadata": {},
   "source": [
    "Random Forest is an ensemble of decision trees.\n",
    "\n",
    "Handles non-linear relationships well and robust to outliers.\n",
    "\n",
    "Usually performs better than linear models on complex data."
   ]
  },
  {
   "cell_type": "markdown",
   "id": "8bcf510b",
   "metadata": {},
   "source": [
    "#### **5️⃣ Gradient Boosting Regressor**"
   ]
  },
  {
   "cell_type": "markdown",
   "id": "7d2c057a",
   "metadata": {},
   "source": [
    "Gradient Boosting builds trees sequentially, each one fixing errors from the previous.\n",
    "\n",
    "Very effective for complex non-linear patterns."
   ]
  },
  {
   "cell_type": "markdown",
   "id": "5d0692b0",
   "metadata": {},
   "source": [
    "#### **6️⃣ Compare Model Performance**"
   ]
  },
  {
   "cell_type": "code",
   "execution_count": 45,
   "id": "143c5e3d",
   "metadata": {},
   "outputs": [
    {
     "name": "stderr",
     "output_type": "stream",
     "text": [
      "C:\\Users\\Admin\\AppData\\Local\\Temp\\ipykernel_12776\\4249108456.py:6: FutureWarning: \n",
      "\n",
      "Passing `palette` without assigning `hue` is deprecated and will be removed in v0.14.0. Assign the `x` variable to `hue` and set `legend=False` for the same effect.\n",
      "\n",
      "  sns.barplot(x=\"Model\", y=metric, data=results_df, palette=\"viridis\", ax=ax)\n",
      "C:\\Users\\Admin\\AppData\\Local\\Temp\\ipykernel_12776\\4249108456.py:8: UserWarning: set_ticklabels() should only be used with a fixed number of ticks, i.e. after set_ticks() or using a FixedLocator.\n",
      "  ax.set_xticklabels(results_df[\"Model\"], rotation=45, ha=\"right\")\n",
      "C:\\Users\\Admin\\AppData\\Local\\Temp\\ipykernel_12776\\4249108456.py:6: FutureWarning: \n",
      "\n",
      "Passing `palette` without assigning `hue` is deprecated and will be removed in v0.14.0. Assign the `x` variable to `hue` and set `legend=False` for the same effect.\n",
      "\n",
      "  sns.barplot(x=\"Model\", y=metric, data=results_df, palette=\"viridis\", ax=ax)\n",
      "C:\\Users\\Admin\\AppData\\Local\\Temp\\ipykernel_12776\\4249108456.py:8: UserWarning: set_ticklabels() should only be used with a fixed number of ticks, i.e. after set_ticks() or using a FixedLocator.\n",
      "  ax.set_xticklabels(results_df[\"Model\"], rotation=45, ha=\"right\")\n",
      "C:\\Users\\Admin\\AppData\\Local\\Temp\\ipykernel_12776\\4249108456.py:6: FutureWarning: \n",
      "\n",
      "Passing `palette` without assigning `hue` is deprecated and will be removed in v0.14.0. Assign the `x` variable to `hue` and set `legend=False` for the same effect.\n",
      "\n",
      "  sns.barplot(x=\"Model\", y=metric, data=results_df, palette=\"viridis\", ax=ax)\n",
      "C:\\Users\\Admin\\AppData\\Local\\Temp\\ipykernel_12776\\4249108456.py:8: UserWarning: set_ticklabels() should only be used with a fixed number of ticks, i.e. after set_ticks() or using a FixedLocator.\n",
      "  ax.set_xticklabels(results_df[\"Model\"], rotation=45, ha=\"right\")\n"
     ]
    },
    {
     "data": {
      "image/png": "[encoded data removed]",
      "text/plain": [
       "<Figure size 2000x600 with 3 Axes>"
      ]
     },
     "metadata": {},
     "output_type": "display_data"
    }
   ],
   "source": [
    "metrics = [\"R2\", \"RMSE\", \"MAE\"]\n",
    "\n",
    "fig, axes = plt.subplots(1, 3, figsize=(20,6))  # 1 row, 3 columns\n",
    "\n",
    "for ax, metric in zip(axes, metrics):\n",
    "    sns.barplot(x=\"Model\", y=metric, data=results_df, palette=\"viridis\", ax=ax)\n",
    "    ax.set_title(f\"{metric} Comparison\", fontsize=14)\n",
    "    ax.set_xticklabels(results_df[\"Model\"], rotation=45, ha=\"right\")\n",
    "\n",
    "plt.tight_layout()\n",
    "plt.show()"
   ]
  },
  {
   "cell_type": "markdown",
   "id": "413bbf07",
   "metadata": {},
   "source": [
    "#### **7️⃣Feature Importance**"
   ]
  },
  {
   "cell_type": "code",
   "execution_count": 42,
   "id": "55e7466d",
   "metadata": {},
   "outputs": [
    {
     "name": "stderr",
     "output_type": "stream",
     "text": [
      "C:\\Users\\Admin\\AppData\\Local\\Temp\\ipykernel_12776\\2547983379.py:8: FutureWarning: \n",
      "\n",
      "Passing `palette` without assigning `hue` is deprecated and will be removed in v0.14.0. Assign the `y` variable to `hue` and set `legend=False` for the same effect.\n",
      "\n",
      "  sns.barplot(x=coefficients.values, y=coefficients.index, palette=\"viridis\")\n"
     ]
    },
    {
     "data": {
      "image/png": "[encoded data removed]",
      "text/plain": [
       "<Figure size 1200x600 with 1 Axes>"
      ]
     },
     "metadata": {},
     "output_type": "display_data"
    },
    {
     "name": "stdout",
     "output_type": "stream",
     "text": [
      "Top 10 Features driving ad revenue (Linear Regression):\n",
      "watch_time_minutes      59.663711\n",
      "likes                   14.964115\n",
      "engagement_rate         -6.504929\n",
      "comments                 3.702565\n",
      "views                    0.488103\n",
      "video_length_minutes     0.065435\n",
      "watch_ratio              0.057173\n",
      "device                  -0.043264\n",
      "subscribers              0.027123\n",
      "upload_dayofweek         0.015341\n",
      "dtype: float64\n"
     ]
    }
   ],
   "source": [
    "# ----------------------------\n",
    "# Feature Importance - Linear Regression\n",
    "# ----------------------------\n",
    "lr_model = models[\"Linear Regression\"]  # your trained Linear Regression model\n",
    "coefficients = pd.Series(lr_model.coef_, index=X.columns).sort_values(key=abs, ascending=False)\n",
    "\n",
    "plt.figure(figsize=(12,6))\n",
    "sns.barplot(x=coefficients.values, y=coefficients.index, palette=\"viridis\")\n",
    "plt.title(\"Linear Regression Feature Importance\", fontsize=16)\n",
    "plt.xlabel(\"Coefficient Value\")\n",
    "plt.tight_layout()\n",
    "plt.show()\n",
    "\n",
    "print(\"Top 10 Features driving ad revenue (Linear Regression):\")\n",
    "print(coefficients.head(10))\n",
    "\n"
   ]
  }
 ],
 "metadata": {
  "kernelspec": {
   "display_name": "venv",
   "language": "python",
   "name": "python3"
  },
  "language_info": {
   "codemirror_mode": {
    "name": "ipython",
    "version": 3
   },
   "file_extension": ".py",
   "mimetype": "text/x-python",
   "name": "python",
   "nbconvert_exporter": "python",
   "pygments_lexer": "ipython3",
   "version": "3.11.9"
  }
 },
 "nbformat": 4,
 "nbformat_minor": 5
}
